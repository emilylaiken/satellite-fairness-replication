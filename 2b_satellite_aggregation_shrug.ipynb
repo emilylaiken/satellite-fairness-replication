{
 "cells": [
  {
   "cell_type": "code",
   "execution_count": 40,
   "metadata": {},
   "outputs": [],
   "source": [
    "import numpy as np\n",
    "import pandas as pd\n",
    "import geopandas as gpd\n",
    "import os\n",
    "import json\n",
    "import time\n",
    "import matplotlib.pyplot as plt\n",
    "import seaborn as sns\n",
    "\n",
    "from multiprocessing import Pool\n"
   ]
  },
  {
   "cell_type": "markdown",
   "metadata": {},
   "source": [
    "### This notebook processes shrug data into the shapefiles ready for downstream analysis.\n",
    "\n",
    "This notebook aggreagtes features from the MOSAIKS API (siml.berkeley.edu) into per-region features. Since the shrug dataset is so large, this is done slightly differently than for the other countries. "
   ]
  },
  {
   "cell_type": "code",
   "execution_count": 67,
   "metadata": {},
   "outputs": [],
   "source": [
    "# at what threshold to merge rural regions until \n",
    "sq_km_thresh= 25\n",
    "data_dir_shrug = '/data/mosaiks/shrug/'\n",
    "\n",
    "# wherever the features are stored after download from the API\n",
    "FEATURES_INFOLDER =  '/data/mosaiks/sampled_tiles/india/featurized/esther_request/'\n",
    "TILES_FOLDER = '/data/mosaiks/replication/sampled_tiles/india'\n",
    "\n",
    "max_tiles = 100\n",
    "\n",
    "if max_tiles is None:\n",
    "    feats_save_fp = f'/data/mosaiks/replication/features/mosaiks_features_by_shrug_condensed_regions_{sq_km_thresh}_india.csv'\n",
    "    meta_save_fp = f'/data/mosaiks/replication/sampled_tiles/india/shrug_condensed_regions_{sq_km_thresh}_meta.csv'\n",
    "    feats_save_fp_1 = f'/data/mosaiks/replication/features_1_tile_per_region/mosaiks_features_by_shrug_condensed_regions_{sq_km_thresh}_india.csv'\n",
    "    meta_save_fp_1 = f'/data/mosaiks/replication/sampled_tiles/india/one_tile_per_resion_shrug_condensed_regions_{sq_km_thresh}_meta.csv'\n",
    "else:\n",
    "    feats_save_fp = f'/data/mosaiks/replication/features/mosaiks_features_by_shrug_condensed_regions_{sq_km_thresh}_max_tiles_{max_tiles}_india.csv'\n",
    "    meta_save_fp = f'/data/mosaiks/replication/sampled_tiles/india/shrug_condensed_regions_{sq_km_thresh}_max_tiles_{max_tiles}_meta.csv'\n",
    "    feats_save_fp_1 = f'/data/mosaiks/replication/features_1_tile_per_region/mosaiks_features_by_shrug_condensed_regions_{sq_km_thresh}_india_max_tiles_{max_tiles}.csv'\n",
    "    meta_save_fp_1 = f'/data/mosaiks/replication/sampled_tiles/india/one_tile_per_resion_shrug_condensed_regions_{sq_km_thresh}_max_tiles_{max_tiles}_meta.csv'"
   ]
  },
  {
   "cell_type": "markdown",
   "metadata": {},
   "source": [
    "## Assign MOSAIKS tiles to each unit.\n",
    "Assumes you have already downloaded the relevant MOSAIKS tiles from the API. See `2a_satellite_sampling.ipynb` notebook to generate csv as input to the MOSAIKS API."
   ]
  },
  {
   "cell_type": "code",
   "execution_count": 47,
   "metadata": {},
   "outputs": [],
   "source": [
    "def get_as_one_sample(aggreated_shapefile_row, max_tiles=None, random_state=None):\n",
    "    # ignore the weight column in the condensed csvs and read from the original sample\n",
    "    # get all shrids in this one\n",
    "    shrug_idxs = aggreated_shapefile_row['shrids_merged_str'].split(',')\n",
    "\n",
    "    # read fps and weights from the big csv\n",
    "    samples =[]\n",
    "    for shrug_idx in shrug_idxs:\n",
    "        this_sample = pd.read_csv(f'{TILES_FOLDER}/{shrug_idx}')\n",
    "        samples.append(this_sample)\n",
    "    samples = pd.concat(samples,ignore_index=True)\n",
    "\n",
    "    # round to nearest 3 so lat and lon are consistent\n",
    "    samples[['Latitude','Longitude']]= samples[['Latitude','Longitude']].apply(lambda x: x.round(3))\n",
    "    # add weights for any repeated lat/lon pairs\n",
    "    s = samples.groupby(['Latitude','Longitude'], as_index=False)['weight'].sum()\n",
    "    num_eligible_tiles = len(s)\n",
    "    # limit to the maximum number of tiles, if applicable\n",
    "    if max_tiles is not None and len(s) > max_tiles:\n",
    "        s = s.sample(max_tiles, replace=False, random_state=random_state)\n",
    "    \n",
    "    return s, num_eligible_tiles\n",
    "\n",
    "\n",
    "def merge_with_mosaiks_references(sample):\n",
    "    keys = ['Latitude','Longitude','weight', 'fp', 'index_within_chunk']\n",
    "    return sample.merge(latlons, on=['Latitude','Longitude'],how='inner')[keys]\n",
    "\n",
    "def aquire_and_average_features(sample_with_fps, max_tiles=None):\n",
    "    # group by fp so we don't read the same path many times \n",
    "    s_by_fp = sample_with_fps.groupby('fp')\n",
    "\n",
    "    if (len(s_by_fp.groups.items())) == 0: \n",
    "        print('no tiles')\n",
    "        return [], 0\n",
    "\n",
    "    mosaiks_tiles_by_chunk = []\n",
    "    weights_by_chunk = []\n",
    "    for chunk_fp, idxs in s_by_fp.groups.items():\n",
    "        idxs_within_chunk = s_by_fp.get_group(chunk_fp)['index_within_chunk']\n",
    "        this_chunk = pd.DataFrame(np.load(chunk_fp)[idxs_within_chunk])\n",
    "        mosaiks_tiles_by_chunk.append(this_chunk)\n",
    "        weights_by_chunk.append(s_by_fp.get_group(chunk_fp)['weight'])\n",
    "        \n",
    "    mosaiks_tiles = pd.concat(mosaiks_tiles_by_chunk)\n",
    "\n",
    "    feature_colnames = ['Feature' + str(i) for i in range(4000)]\n",
    "    mosaiks_tiles.columns = ['Latitude', 'Longitude'] + feature_colnames\n",
    "    mosaiks_tiles.loc[:,'weight'] = pd.concat(weights_by_chunk)\n",
    "    x_avged = np.average(a = mosaiks_tiles[feature_colnames].values,\n",
    "                         weights = mosaiks_tiles['weight'].values,\n",
    "                         axis=0)\n",
    "    \n",
    "    return x_avged, len(mosaiks_tiles)\n",
    "\n",
    "def process_row(args):\n",
    "    # wrapper function to work with parallelization\n",
    "    if len(args) == 3:\n",
    "        row, max_tiles_per_region, i = args\n",
    "        # random seed for sampling tiles determined by index \n",
    "        rs = np.random.RandomState(i)\n",
    "    else:\n",
    "        row = args\n",
    "        rs = None\n",
    "        max_tiles_per_region = None\n",
    "        \n",
    "    # compile each shapefile in this row to one sample\n",
    "    s, num_eligible_tiles = get_as_one_sample(row, max_tiles = max_tiles_per_region, random_state=rs)\n",
    "    # add in fps to mosaiks feats\n",
    "    s_with_fp = merge_with_mosaiks_references(s)\n",
    "    # average the feats\n",
    "    feats, num_tiles_in_avg = aquire_and_average_features(s_with_fp)\n",
    "\n",
    "    # if missing any tiles in the feature average, track that they are missing because they \n",
    "    # weren't in the feature set to begin with\n",
    "    if num_tiles_in_avg != len(s):\n",
    "        not_found_tiles = pd.concat((s[['Latitude','Longitude']],\n",
    "                       s_with_fp[['Latitude','Longitude']])).drop_duplicates(keep=False)\n",
    "        \n",
    "        n_tiles_not_in_mosaiks_corpus = len(not_found_tiles.merge(unfound_rows, \n",
    "                                                                     how='inner', \n",
    "                                                                     on = ['Latitude','Longitude']))\n",
    "    else:\n",
    "        n_tiles_not_in_mosaiks_corpus = 0\n",
    "    \n",
    "    return row['condensed_shrug_id'], feats, num_eligible_tiles, num_tiles_in_avg, n_tiles_not_in_mosaiks_corpus\n",
    "\n"
   ]
  },
  {
   "cell_type": "code",
   "execution_count": 48,
   "metadata": {},
   "outputs": [],
   "source": [
    "def get_latlons(features_infolder, overwrite = False):\n",
    "    # read all latlons for features in features_infolder, and save them all together\n",
    "    # with the fps and idxs within each chunk of the features\n",
    "    if 'all_latlons.csv' in os.listdir(features_infolder) and not overwrite:\n",
    "        return pd.read_csv(features_infolder + '/'+ 'all_latlons.csv')\n",
    "    \n",
    "    chunks = []\n",
    "    for i,fname in enumerate(os.listdir(features_infolder)):\n",
    "        if fname == 'all_latlons.csv': continue # ignore this to overwrite\n",
    "        fp = features_infolder + '/'+ fname\n",
    "        this_chunk = pd.DataFrame(np.load(fp)[:,:2])\n",
    "\n",
    "        this_chunk.columns = ['Latitude', 'Longitude'] \n",
    "        this_chunk.loc[:,'fp'] = fp\n",
    "        this_chunk.loc[:,'index_within_chunk'] = this_chunk.index\n",
    "        chunks.append(this_chunk)\n",
    "\n",
    "        latlons = pd.concat(chunks)\n",
    "        latlons.loc[:,['Latitude', 'Longitude']] = latlons.loc[:,['Latitude', 'Longitude']].round(3)\n",
    "    print('writing to ',features_infolder + '/'+ 'all_latlons.csv')\n",
    "    latlons.to_csv(features_infolder + '/'+ 'all_latlons.csv')\n",
    "    \n",
    "    return latlons\n",
    "\n",
    "def get_unfound_rows(features_infolder):\n",
    "  \n",
    "    latlons = get_latlons(features_infolder, overwrite=False)    \n",
    "    sample_sent = pd.read_csv('/data/mosaiks/shrug/shrug_sample/sampled_tiles_unique.csv')\n",
    "    sample_sent.columns =['Latitude','Longitude']\n",
    "\n",
    "    df_together = pd.concat((sample_sent,latlons))\n",
    "    unfound_rows = df_together.drop_duplicates(['Latitude','Longitude'],keep=False)\n",
    "    return unfound_rows\n",
    " \n"
   ]
  },
  {
   "cell_type": "markdown",
   "metadata": {},
   "source": [
    "## 3.2 compile, check on any missing cells \n",
    "Make sure that missing cells are explained by that cell actually being missing in the MOSAIKS features"
   ]
  },
  {
   "cell_type": "code",
   "execution_count": 20,
   "metadata": {},
   "outputs": [
    {
     "name": "stdout",
     "output_type": "stream",
     "text": [
      "/data/mosaiks/shrug/shrug_condensed_regions_25.geojson\n",
      "63356\n"
     ]
    }
   ],
   "source": [
    "shapefile_name = os.path.join(data_dir_shrug,\n",
    "                              f'shrug_condensed_regions_{sq_km_thresh}.geojson')\n",
    "\n",
    "shapefile = gpd.read_file(shapefile_name)\n",
    "print(shapefile_name)\n",
    "print(len(shapefile))"
   ]
  },
  {
   "cell_type": "code",
   "execution_count": 12,
   "metadata": {},
   "outputs": [
    {
     "name": "stdout",
     "output_type": "stream",
     "text": [
      "1.256\n"
     ]
    }
   ],
   "source": [
    "t1 = time.time()\n",
    "latlons = get_latlons(FEATURES_INFOLDER, overwrite=False)\n",
    "t2 = time.time()\n",
    "print(f'{t2-t1:.3f}')"
   ]
  },
  {
   "cell_type": "code",
   "execution_count": 44,
   "metadata": {},
   "outputs": [
    {
     "data": {
      "image/png": "[encoded data removed]",
      "text/plain": [
       "<Figure size 432x288 with 1 Axes>"
      ]
     },
     "metadata": {
      "needs_background": "light"
     },
     "output_type": "display_data"
    }
   ],
   "source": [
    "# track rows not in the mosaiks API\n",
    "unfound_rows = get_unfound_rows(FEATURES_INFOLDER)\n",
    "\n",
    "plt.scatter(unfound_rows['Longitude'],unfound_rows['Latitude'],s=4)\n",
    "plt.title(f'{len(unfound_rows)} rows from original request not returned by MOSAIKS API')\n",
    "plt.xlabel('lon')\n",
    "plt.ylabel('lat');"
   ]
  },
  {
   "cell_type": "code",
   "execution_count": 45,
   "metadata": {},
   "outputs": [],
   "source": [
    "if max_tiles is None:\n",
    "    todo_list = [shapefile.iloc[i] for i in range(len(shapefile))]\n",
    "else:\n",
    "    todo_list = [[shapefile.iloc[i], max_tiles, i] for i in range(len(shapefile))]"
   ]
  },
  {
   "cell_type": "code",
   "execution_count": null,
   "metadata": {},
   "outputs": [],
   "source": [
    "'/data/mosaiks/replication/sampled_tiles/india/sampled_tiles_partition_0.csv'\n"
   ]
  },
  {
   "cell_type": "code",
   "execution_count": 46,
   "metadata": {},
   "outputs": [
    {
     "data": {
      "text/plain": [
       "'/data/mosaiks/sampled_tiles/india/featurized/esther_request//150.npy'"
      ]
     },
     "execution_count": 46,
     "metadata": {},
     "output_type": "execute_result"
    }
   ],
   "source": [
    "latlons.iloc[0]['fp']"
   ]
  },
  {
   "cell_type": "code",
   "execution_count": null,
   "metadata": {},
   "outputs": [],
   "source": [
    "# chunk into four to track timing\n",
    "results_all = []\n",
    "n_per_chunk = 16000\n",
    "n_processes = 40\n",
    "chunks = int(len(todo_list) / n_per_chunk) + 1\n",
    "for i in range(chunks):\n",
    "    t1 = time.time()\n",
    "    pool = Pool(n_processes)\n",
    "    results_this_chunk = pool.map(process_row, todo_list[n_per_chunk*i:n_per_chunk*(i+1)])\n",
    "    results_all.append(results_this_chunk)\n",
    "    t2 = time.time()\n",
    "    print(f'took : {(t2-t1)/60 /60} hours')"
   ]
  },
  {
   "cell_type": "code",
   "execution_count": 58,
   "metadata": {},
   "outputs": [
    {
     "data": {
      "text/plain": [
       "4"
      ]
     },
     "execution_count": 58,
     "metadata": {},
     "output_type": "execute_result"
    }
   ],
   "source": [
    "len(results_all)"
   ]
  },
  {
   "cell_type": "code",
   "execution_count": 60,
   "metadata": {},
   "outputs": [],
   "source": [
    "# read in results \n",
    "no_samples = []\n",
    "feats = []\n",
    "shrug_condensed_idxs = []\n",
    "\n",
    "unequal_num_samples = []\n",
    "unequal_num_sample_idxs = []\n",
    "\n",
    "missing_tiles_apart_from_api = []\n",
    "missing_tiles_apart_from_api_idxs = []\n",
    "num_tiles = []\n",
    "num_tiles_asked = []\n",
    "\n",
    "for results in results_all:\n",
    "    for i,r in enumerate(results):\n",
    "        if r[3] == 0: \n",
    "            no_samples.append(i)\n",
    "        else:\n",
    "            if r[2] != r[3]: \n",
    "                unequal_num_samples.append(r[0])\n",
    "                unequal_num_sample_idxs.append(i)\n",
    "                \n",
    "            if r[2] - r[3] != r[4]:\n",
    "                missing_tiles_apart_from_api.append(r[0])\n",
    "                missing_tiles_apart_from_api_idxs.append(i)\n",
    "            shrug_condensed_idxs.append(r[0])\n",
    "            feats.append(r[1])\n",
    "            num_tiles.append(r[3])\n",
    "            num_tiles_asked.append(r[2])\n"
   ]
  },
  {
   "cell_type": "code",
   "execution_count": 79,
   "metadata": {},
   "outputs": [
    {
     "name": "stdout",
     "output_type": "stream",
     "text": [
      "/data/mosaiks/replication/sampled_tiles/india/shrug_condensed_regions_25_max_tiles_100_meta.csv\n"
     ]
    }
   ],
   "source": [
    "meta = pd.DataFrame(np.array([shrug_condensed_idxs[:,0], num_tiles_asked, num_tiles]).T,\n",
    "                     columns = ['shrug_condensed_id','num_eligible_squares', 'count'])\n",
    "print(meta_save_fp)\n",
    "meta.to_csv(meta_save_fp)"
   ]
  },
  {
   "cell_type": "code",
   "execution_count": 62,
   "metadata": {},
   "outputs": [
    {
     "name": "stdout",
     "output_type": "stream",
     "text": [
      "thresh = 25 km^2\n",
      "number of units = 63356\n",
      "pct rural units = 94.43778016288907\n",
      "pct urban units = 5.562219837110927\n"
     ]
    }
   ],
   "source": [
    "print(f'thresh = {sq_km_thresh} km^2')\n",
    "print(f'number of units = {len(shapefile)}')\n",
    "print(f'pct rural units = {shapefile[\"rural\"].mean()*100}')\n",
    "print(f'pct urban units = {(1-shapefile[\"rural\"].mean())*100}')\n"
   ]
  },
  {
   "cell_type": "code",
   "execution_count": 63,
   "metadata": {},
   "outputs": [
    {
     "name": "stdout",
     "output_type": "stream",
     "text": [
      "thresh = 25 km^2\n",
      "of cells with tiles:\n",
      "min num samples per unit: 1\n",
      "average num samples per unit: 49.02524072612471\n",
      "max num samples per unit: 100\n"
     ]
    }
   ],
   "source": [
    "print(f'thresh = {sq_km_thresh} km^2')\n",
    "print('of cells with tiles:')\n",
    "print(f'min num samples per unit: {np.min(num_tiles)}')\n",
    "print(f'average num samples per unit: {np.mean(num_tiles)}')\n",
    "print(f'max num samples per unit: {np.max(num_tiles)}')"
   ]
  },
  {
   "cell_type": "code",
   "execution_count": 64,
   "metadata": {},
   "outputs": [
    {
     "name": "stdout",
     "output_type": "stream",
     "text": [
      "6 of 63356 had no tiles, of the rest:\n",
      "3120 had fewer tiles than requested\n",
      "2562 had missing tiles apart from those not returned from API\n"
     ]
    }
   ],
   "source": [
    "# sanity check any missingness\n",
    "print(f'{len(no_samples)} of {len(shapefile)} had no tiles, of the rest:')\n",
    "print(f'{len(unequal_num_samples)} had fewer tiles than requested')\n",
    "print(f'{len(missing_tiles_apart_from_api)} had missing tiles apart from those not returned from API')\n"
   ]
  },
  {
   "cell_type": "markdown",
   "metadata": {},
   "source": [
    "## 3.3 package for export to feature matrix"
   ]
  },
  {
   "cell_type": "code",
   "execution_count": 65,
   "metadata": {},
   "outputs": [],
   "source": [
    "feature_colnames = ['Feature' + str(i) for i in range(4000)]\n",
    "df_columns = ['condensed_shrug_id'] + feature_colnames \n",
    "\n",
    "shrug_condensed_idxs = np.array(shrug_condensed_idxs).reshape(-1,1)\n",
    "feats = np.array(feats)\n",
    "feats_all = pd.DataFrame(np.hstack((shrug_condensed_idxs,feats)), columns = df_columns)"
   ]
  },
  {
   "cell_type": "code",
   "execution_count": 68,
   "metadata": {},
   "outputs": [
    {
     "name": "stdout",
     "output_type": "stream",
     "text": [
      "(63350, 4001)\n",
      "writing to /data/mosaiks/replication/features/mosaiks_features_by_shrug_condensed_regions_25_max_tiles_100_india.csv\n"
     ]
    }
   ],
   "source": [
    "print(feats_all.shape)\n",
    "print(f'writing to {feats_save_fp}')\n",
    "feats_all.to_csv(feats_save_fp,index=False)"
   ]
  },
  {
   "cell_type": "code",
   "execution_count": 70,
   "metadata": {},
   "outputs": [],
   "source": [
    "sq_km_thresh = 25\n",
    "shrug_csv_fp_after_merge = os.path.join(data_dir_shrug,\n",
    "                              f'shrug_condensed_regions_{sq_km_thresh}.geojson')\n",
    "\n",
    "# load gdf and add projected area\n",
    "gdf_after_merge = gpd.read_file(shrug_csv_fp_after_merge)\n"
   ]
  },
  {
   "cell_type": "code",
   "execution_count": 71,
   "metadata": {},
   "outputs": [],
   "source": [
    "gdf_urban = gdf_after_merge[gdf_after_merge.rural == False]\n",
    "gdf_rural = gdf_after_merge[gdf_after_merge.rural == True]"
   ]
  },
  {
   "cell_type": "code",
   "execution_count": 72,
   "metadata": {},
   "outputs": [
    {
     "name": "stdout",
     "output_type": "stream",
     "text": [
      "AFTER MERGE\n",
      "there are 3524 urban shrids\n",
      "there are 59832 rural shrids before merging\n",
      "median area of urban regions: 13.919551831449446 km^2\n",
      "median area of rural regions: 40.84049456779559 km^2\n"
     ]
    }
   ],
   "source": [
    "print(f'AFTER MERGE')\n",
    "print(f'there are {len(gdf_urban)} urban shrids')\n",
    "print(f'there are {len(gdf_rural)} rural shrids before merging')\n",
    "print(f'median area of urban regions: {np.median(gdf_urban.proj_area) / 1e6} km^2')\n",
    "print(f'median area of rural regions: {np.median(gdf_rural.proj_area) / 1e6} km^2')"
   ]
  },
  {
   "cell_type": "markdown",
   "metadata": {},
   "source": [
    "# 3. get 1 tile at a time for tile analysis"
   ]
  },
  {
   "cell_type": "code",
   "execution_count": 85,
   "metadata": {},
   "outputs": [],
   "source": [
    "max_tiles = 1\n",
    "if max_tiles is None:\n",
    "    todo_list = [shapefile.iloc[i] for i in range(len(shapefile))]\n",
    "else:\n",
    "    todo_list = [[shapefile.iloc[i], max_tiles, i] for i in range(len(shapefile))]"
   ]
  },
  {
   "cell_type": "code",
   "execution_count": null,
   "metadata": {},
   "outputs": [
    {
     "name": "stdout",
     "output_type": "stream",
     "text": [
      "no tiles\n",
      "no tiles\n",
      "no tiles\n",
      "no tiles\n",
      "no tiles\n",
      "no tiles\n",
      "no tiles\n",
      "no tiles\n",
      "no tiles\n",
      "no tiles\n",
      "no tiles\n",
      "no tiles\n",
      "no tiles\n",
      "no tiles\n",
      "no tiles\n",
      "no tiles\n",
      "no tiles\n",
      "no tiles\n"
     ]
    }
   ],
   "source": [
    "# chunk into four to track timing\n",
    "results_all_1 = []\n",
    "n_per_chunk = 16000\n",
    "n_processes = 40\n",
    "chunks = int(len(todo_list) / n_per_chunk) + 1\n",
    "for i in range(chunks):\n",
    "    t1 = time.time()\n",
    "    pool = Pool(n_processes)\n",
    "    results_this_chunk_1 = pool.map(process_row, todo_list[n_per_chunk*i:n_per_chunk*(i+1)])\n",
    "    results_all_1.append(results_this_chunk_1)\n",
    "    t2 = time.time()\n",
    "    print(f'took : {(t2-t1)/60 /60} hours')"
   ]
  },
  {
   "cell_type": "code",
   "execution_count": null,
   "metadata": {},
   "outputs": [],
   "source": [
    "# read in results \n",
    "no_samples = []\n",
    "feats = []\n",
    "shrug_condensed_idxs = []\n",
    "\n",
    "unequal_num_samples = []\n",
    "unequal_num_sample_idxs = []\n",
    "\n",
    "missing_tiles_apart_from_api = []\n",
    "missing_tiles_apart_from_api_idxs = []\n",
    "num_tiles = []\n",
    "num_tiles_asked = []\n",
    "\n",
    "for results in results_all_1:\n",
    "    for i,r in enumerate(results):\n",
    "        if r[3] == 0: \n",
    "            no_samples.append(i)\n",
    "        else:\n",
    "            if r[2] != r[3]: \n",
    "                unequal_num_samples.append(r[0])\n",
    "                unequal_num_sample_idxs.append(i)\n",
    "                \n",
    "            if r[2] - r[3] != r[4]:\n",
    "                missing_tiles_apart_from_api.append(r[0])\n",
    "                missing_tiles_apart_from_api_idxs.append(i)\n",
    "            shrug_condensed_idxs.append(r[0])\n",
    "            feats.append(r[1])\n",
    "            num_tiles.append(r[3])\n",
    "            num_tiles_asked.append(r[2])\n"
   ]
  },
  {
   "cell_type": "code",
   "execution_count": null,
   "metadata": {},
   "outputs": [],
   "source": [
    "# package as meta data\n",
    "meta = pd.DataFrame(np.array([shrug_condensed_idxs, num_tiles_asked, num_tiles]).T,\n",
    "                     columns = ['shrug_condensed_id','num_eligible_squares', 'count'])\n",
    "meta.to_csv(meta_save_fp_1)"
   ]
  },
  {
   "cell_type": "code",
   "execution_count": null,
   "metadata": {},
   "outputs": [],
   "source": [
    "feature_colnames = ['Feature' + str(i) for i in range(4000)]\n",
    "df_columns = ['condensed_shrug_id'] + feature_colnames \n",
    "\n",
    "shrug_condensed_idxs = np.array(shrug_condensed_idxs).reshape(-1,1)\n",
    "feats = np.array(feats)\n",
    "feats_all_1 = pd.DataFrame(np.hstack((shrug_condensed_idxs,feats)), columns = df_columns)\n",
    "\n",
    "print(f'writing to {feats_save_fp_1}')\n",
    "feats_all_1.to_csv(feats_save_fp_1,index=False)"
   ]
  },
  {
   "cell_type": "code",
   "execution_count": null,
   "metadata": {},
   "outputs": [],
   "source": [
    "len(feats_all_1)"
   ]
  },
  {
   "cell_type": "code",
   "execution_count": null,
   "metadata": {},
   "outputs": [],
   "source": []
  }
 ],
 "metadata": {
  "kernelspec": {
   "display_name": "siml",
   "language": "python",
   "name": "siml"
  },
  "language_info": {
   "codemirror_mode": {
    "name": "ipython",
    "version": 3
   },
   "file_extension": ".py",
   "mimetype": "text/x-python",
   "name": "python",
   "nbconvert_exporter": "python",
   "pygments_lexer": "ipython3",
   "version": "3.10.4"
  }
 },
 "nbformat": 4,
 "nbformat_minor": 5
}
