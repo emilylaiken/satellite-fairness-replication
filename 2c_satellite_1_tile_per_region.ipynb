{
 "cells": [
  {
   "cell_type": "code",
   "execution_count": null,
   "metadata": {},
   "outputs": [],
   "source": [
    "import os\n",
    "import pandas as pd\n",
    "import geopandas as gpd\n",
    "import numpy as np\n",
    "import matplotlib.pyplot as plt\n",
    "import warnings\n",
    "import time\n",
    "warnings.filterwarnings('ignore')\n",
    "from importlib import reload\n",
    "#reload(gpd)"
   ]
  },
  {
   "cell_type": "markdown",
   "metadata": {},
   "source": [
    "# After Obtaining Featurizations from MOSAIKS API"
   ]
  },
  {
   "cell_type": "code",
   "execution_count": null,
   "metadata": {},
   "outputs": [],
   "source": [
    "TILES_FOLDER = '/data/mosaiks/sampled_tiles/'\n",
    "FEATURES_FOLDER = '/data/mosaiks/features/replication/'\n",
    "FEATURES_FOLDER_1_TILE = '/data/mosaiks/replication/features_1_tile_per_region/'"
   ]
  },
  {
   "cell_type": "code",
   "execution_count": null,
   "metadata": {},
   "outputs": [],
   "source": [
    "# Read raw mosaiks features\n",
    "def get_features(FEATURES_INFOLDER, SAMPLE_FNAME):\n",
    "    mosaiks = []\n",
    "    for fname in os.listdir(FEATURES_INFOLDER):\n",
    "        if fname[-4:] == '.csv':\n",
    "            print(fname)\n",
    "            mosaiks.append(pd.read_csv(FEATURES_INFOLDER + '/' + fname))\n",
    "\n",
    "    if 'Lat' in mosaiks[0].keys():\n",
    "        mosaiks = pd.concat(mosaiks).drop_duplicates(subset=['Lat', 'Lon'])\n",
    "    else:\n",
    "        mosaiks = pd.concat(mosaiks).drop_duplicates(subset=['Latitude', 'Longitude'])\n",
    "    mosaiks.columns = ['Latitude', 'Longitude'] + ['Feature' + str(i) for i in range(len(mosaiks.columns) - 2)]\n",
    "\n",
    "    # Merge mosaiks features to original sample file\n",
    "    sample = pd.read_csv(SAMPLE_FNAME)\n",
    "    mosaiks = mosaiks.merge(sample, how='inner', on=['Latitude', 'Longitude'])\n",
    "    \n",
    "    return mosaiks"
   ]
  },
  {
   "cell_type": "code",
   "execution_count": null,
   "metadata": {},
   "outputs": [],
   "source": [
    "dhs_countries = ['colombia',  'honduras', 'indonesia', 'nigeria', 'kenya', 'peru', 'philippines']\n",
    "countries = dhs_countries + ['us', 'mexico']\n",
    "# india is done in a separate notebook\n",
    "\n",
    "seed = 0\n",
    "rs = np.random.RandomState(seed)\n",
    "    \n",
    "for country in countries:\n",
    "    if country.lower() == 'us':\n",
    "        SAMPLE_FNAME = TILES_FOLDER + 'us/sampled_tiles.csv'\n",
    "        SHAPEFILE_IDS = ['PUMA','State']\n",
    "        OUT_FNAME = FEATURES_FOLDER_1_TILE + 'mosaiks_features_by_puma_us.csv'\n",
    "        FEATURES_INFOLDER = TILES_FOLDER + 'us/featurized/'\n",
    "\n",
    "    elif country.lower() == 'mexico':\n",
    "        # RUN THIS CELL FOR MEXICO MUNICIPALITIES\n",
    "        FEATURES_INFOLDER = TILES_FOLDER + 'mexico/featurized/'\n",
    "        SAMPLE_FNAME = TILES_FOLDER + 'mexico/sampled_tiles.csv'\n",
    "        SHAPEFILE_IDS = ['municipality']\n",
    "        OUT_FNAME = FEATURES_FOLDER_1_TILE + 'mosaiks_features_by_municipality_mexico.csv'\n",
    "\n",
    "    else:\n",
    "        dhs_country = country\n",
    "        FEATURES_INFOLDER = TILES_FOLDER + 'dhs/' + dhs_country + '/featurized/'\n",
    "        SAMPLE_FNAME = TILES_FOLDER + 'dhs/' + dhs_country + '/sampled_tiles.csv'\n",
    "        SHAPEFILE_IDS = ['cluster']\n",
    "        OUT_FNAME = FEATURES_FOLDER_1_TILE + 'dhs/mosaiks_features_by_cluster_' + dhs_country + '.csv'\n",
    "    \n",
    "    %time feats = get_features(FEATURES_INFOLDER, SAMPLE_FNAME)\n",
    "        \n",
    "    # take a sample of one from each location    \n",
    "    sample = feats.groupby(SHAPEFILE_IDS, as_index=False).sample(n=1, replace=False, random_state=rs)\n",
    "    \n",
    "    print(f'writing to {OUT_FNAME}')\n",
    "    sample.to_csv(OUT_FNAME)"
   ]
  },
  {
   "cell_type": "code",
   "execution_count": null,
   "metadata": {},
   "outputs": [],
   "source": []
  }
 ],
 "metadata": {
  "kernelspec": {
   "display_name": "siml",
   "language": "python",
   "name": "siml"
  },
  "language_info": {
   "codemirror_mode": {
    "name": "ipython",
    "version": 3
   },
   "file_extension": ".py",
   "mimetype": "text/x-python",
   "name": "python",
   "nbconvert_exporter": "python",
   "pygments_lexer": "ipython3",
   "version": "3.10.4"
  }
 },
 "nbformat": 4,
 "nbformat_minor": 4
}
