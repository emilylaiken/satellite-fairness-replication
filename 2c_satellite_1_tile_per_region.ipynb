{
 "cells": [
  {
   "cell_type": "code",
   "execution_count": 1,
   "metadata": {},
   "outputs": [],
   "source": [
    "import os\n",
    "import pandas as pd\n",
    "import geopandas as gpd\n",
    "import numpy as np\n",
    "import matplotlib.pyplot as plt\n",
    "import warnings\n",
    "import time\n",
    "warnings.filterwarnings('ignore')\n",
    "from importlib import reload\n",
    "#reload(gpd)"
   ]
  },
  {
   "cell_type": "markdown",
   "metadata": {},
   "source": [
    "# After Obtaining Featurizations from MOSAIKS API"
   ]
  },
  {
   "cell_type": "code",
   "execution_count": 2,
   "metadata": {},
   "outputs": [],
   "source": [
    "TILES_FOLDER = '/data/mosaiks/sampled_tiles/'\n",
    "FEATURES_FOLDER = '/data/mosaiks/features/replication/'\n",
    "FEATURES_FOLDER_1_TILE = '/data/mosaiks/replication/features_1_tile_per_region/'"
   ]
  },
  {
   "cell_type": "code",
   "execution_count": 3,
   "metadata": {},
   "outputs": [],
   "source": [
    "# Read raw mosaiks features\n",
    "def get_features(FEATURES_INFOLDER, SAMPLE_FNAME):\n",
    "    mosaiks = []\n",
    "    for fname in os.listdir(FEATURES_INFOLDER):\n",
    "        if fname[-4:] == '.csv':\n",
    "            print(fname)\n",
    "            mosaiks.append(pd.read_csv(FEATURES_INFOLDER + '/' + fname))\n",
    "\n",
    "    if 'Lat' in mosaiks[0].keys():\n",
    "        mosaiks = pd.concat(mosaiks).drop_duplicates(subset=['Lat', 'Lon'])\n",
    "    else:\n",
    "        mosaiks = pd.concat(mosaiks).drop_duplicates(subset=['Latitude', 'Longitude'])\n",
    "    mosaiks.columns = ['Latitude', 'Longitude'] + ['Feature' + str(i) for i in range(len(mosaiks.columns) - 2)]\n",
    "\n",
    "    # Merge mosaiks features to original sample file\n",
    "    sample = pd.read_csv(SAMPLE_FNAME)\n",
    "    mosaiks = mosaiks.merge(sample, how='inner', on=['Latitude', 'Longitude'])\n",
    "    \n",
    "    return mosaiks"
   ]
  },
  {
   "cell_type": "code",
   "execution_count": 4,
   "metadata": {},
   "outputs": [
    {
     "name": "stdout",
     "output_type": "stream",
     "text": [
      "colombia0.csv\n",
      "colombia1.csv\n",
      "CPU times: user 2min 6s, sys: 10.2 s, total: 2min 16s\n",
      "Wall time: 2min 18s\n",
      "writing to /data/mosaiks/features_1_tile_per_region/dhs/mosaiks_features_by_cluster_colombia.csv\n",
      "Mosaiks_features.csv\n",
      "CPU times: user 36.6 s, sys: 2.63 s, total: 39.3 s\n",
      "Wall time: 40.5 s\n",
      "writing to /data/mosaiks/features_1_tile_per_region/dhs/mosaiks_features_by_cluster_honduras.csv\n",
      "Mosaiks_features.csv\n",
      "CPU times: user 55.5 s, sys: 4.15 s, total: 59.6 s\n",
      "Wall time: 1min\n",
      "writing to /data/mosaiks/features_1_tile_per_region/dhs/mosaiks_features_by_cluster_indonesia.csv\n",
      "Mosaiks_features.csv\n",
      "CPU times: user 1min 2s, sys: 4.59 s, total: 1min 7s\n",
      "Wall time: 1min 7s\n",
      "writing to /data/mosaiks/features_1_tile_per_region/dhs/mosaiks_features_by_cluster_nigeria.csv\n",
      "Mosaiks_features.csv\n",
      "CPU times: user 1min, sys: 4.49 s, total: 1min 4s\n",
      "Wall time: 1min 5s\n",
      "writing to /data/mosaiks/features_1_tile_per_region/dhs/mosaiks_features_by_cluster_kenya.csv\n",
      "Mosaiks_features.csv\n",
      "CPU times: user 34.7 s, sys: 2.25 s, total: 36.9 s\n",
      "Wall time: 37.3 s\n",
      "writing to /data/mosaiks/features_1_tile_per_region/dhs/mosaiks_features_by_cluster_peru.csv\n",
      "Mosaiks_features.csv\n",
      "CPU times: user 43 s, sys: 3.09 s, total: 46.1 s\n",
      "Wall time: 47 s\n",
      "writing to /data/mosaiks/features_1_tile_per_region/dhs/mosaiks_features_by_cluster_philippines.csv\n",
      "Mosaiks_features_2.csv\n",
      "Mosaiks_features_3.csv\n",
      "Mosaiks_features.csv\n",
      "CPU times: user 3min 10s, sys: 15.2 s, total: 3min 25s\n",
      "Wall time: 3min 26s\n",
      "writing to /data/mosaiks/features_1_tile_per_region/mosaiks_features_by_puma_us.csv\n",
      "partition_3.csv\n",
      "partition_2.csv\n",
      "partition_1.csv\n",
      "partition_4.csv\n",
      "partition_0.csv\n",
      "CPU times: user 6min 14s, sys: 27.2 s, total: 6min 42s\n",
      "Wall time: 6min 46s\n",
      "writing to /data/mosaiks/features_1_tile_per_region/mosaiks_features_by_municipality_mexico.csv\n"
     ]
    }
   ],
   "source": [
    "dhs_countries = ['colombia',  'honduras', 'indonesia', 'nigeria', 'kenya', 'peru', 'philippines']\n",
    "countries = dhs_countries + ['us', 'mexico']\n",
    "# india is done in a separate notebook\n",
    "\n",
    "seed = 0\n",
    "rs = np.random.RandomState(seed)\n",
    "    \n",
    "for country in countries:\n",
    "    if country.lower() == 'us':\n",
    "        SAMPLE_FNAME = TILES_FOLDER + 'us/sampled_tiles.csv'\n",
    "        SHAPEFILE_IDS = ['PUMA','State']\n",
    "        OUT_FNAME = FEATURES_FOLDER_1_TILE + 'mosaiks_features_by_puma_us.csv'\n",
    "        FEATURES_INFOLDER = TILES_FOLDER + 'us/featurized/'\n",
    "\n",
    "    elif country.lower() == 'mexico':\n",
    "        # RUN THIS CELL FOR MEXICO MUNICIPALITIES\n",
    "        FEATURES_INFOLDER = TILES_FOLDER + 'mexico/featurized/'\n",
    "        SAMPLE_FNAME = TILES_FOLDER + 'mexico/sampled_tiles.csv'\n",
    "        SHAPEFILE_IDS = ['municipality']\n",
    "        OUT_FNAME = FEATURES_FOLDER_1_TILE + 'mosaiks_features_by_municipality_mexico.csv'\n",
    "\n",
    "    else:\n",
    "        dhs_country = country\n",
    "        FEATURES_INFOLDER = TILES_FOLDER + 'dhs/' + dhs_country + '/featurized/'\n",
    "        SAMPLE_FNAME = TILES_FOLDER + 'dhs/' + dhs_country + '/sampled_tiles.csv'\n",
    "        SHAPEFILE_IDS = ['cluster']\n",
    "        OUT_FNAME = FEATURES_FOLDER_1_TILE + 'dhs/mosaiks_features_by_cluster_' + dhs_country + '.csv'\n",
    "    \n",
    "    %time feats = get_features(FEATURES_INFOLDER, SAMPLE_FNAME)\n",
    "        \n",
    "    # take a sample of one from each location    \n",
    "    sample = feats.groupby(SHAPEFILE_IDS, as_index=False).sample(n=1, replace=False, random_state=rs)\n",
    "    \n",
    "    print(f'writing to {OUT_FNAME}')\n",
    "    sample.to_csv(OUT_FNAME)"
   ]
  },
  {
   "cell_type": "code",
   "execution_count": null,
   "metadata": {},
   "outputs": [],
   "source": []
  }
 ],
 "metadata": {
  "kernelspec": {
   "display_name": "siml",
   "language": "python",
   "name": "siml"
  },
  "language_info": {
   "codemirror_mode": {
    "name": "ipython",
    "version": 3
   },
   "file_extension": ".py",
   "mimetype": "text/x-python",
   "name": "python",
   "nbconvert_exporter": "python",
   "pygments_lexer": "ipython3",
   "version": "3.10.4"
  }
 },
 "nbformat": 4,
 "nbformat_minor": 4
}
