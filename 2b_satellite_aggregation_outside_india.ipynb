{
 "cells": [
  {
   "cell_type": "markdown",
   "metadata": {},
   "source": [
    "# 2b. Satellite Featurizations Part 2 -- Feature Aggregation (except for India)\n",
    "This notebook should be run after the files obtained from the previous notebook are featurized via siml.berkeley.edu."
   ]
  },
  {
   "cell_type": "code",
   "execution_count": 48,
   "metadata": {},
   "outputs": [],
   "source": [
    "import os\n",
    "import pandas as pd\n",
    "import geopandas as gpd\n",
    "import numpy as np\n",
    "import matplotlib.pyplot as plt\n",
    "import warnings\n",
    "import time\n",
    "warnings.filterwarnings('ignore')\n",
    "from importlib import reload"
   ]
  },
  {
   "cell_type": "code",
   "execution_count": 49,
   "metadata": {},
   "outputs": [],
   "source": [
    "TILES_FOLDER = '/data/mosaiks/sampled_tiles/'\n",
    "FEATURES_FOLDER = '/data/mosaiks/replication/features/'"
   ]
  },
  {
   "cell_type": "code",
   "execution_count": 50,
   "metadata": {},
   "outputs": [],
   "source": [
    "# RUN THIS CELL FOR US PUMAS\n",
    "FEATURES_INFOLDER = TILES_FOLDER + 'us/featurized/'\n",
    "#SAMPLE_FNAME = TILES_FOLDER + 'us/sampled_tiles.csv'\n",
    "SAMPLE_FNAME = '/data/mosaiks/replication/sampled_tiles/us/sampled_tiles.csv'\n",
    "SHAPEFILE_IDS = ['Id']\n",
    "OUT_FNAME = FEATURES_FOLDER + 'mosaiks_features_by_puma_us.csv'"
   ]
  },
  {
   "cell_type": "code",
   "execution_count": 25,
   "metadata": {},
   "outputs": [],
   "source": [
    "# RUN THIS CELL FOR MEXICO MUNICIPALITIES\n",
    "FEATURES_INFOLDER = TILES_FOLDER + 'mexico/featurized/'\n",
    "SAMPLE_FNAME = TILES_FOLDER + 'mexico/sampled_tiles.csv'\n",
    "SHAPEFILE_IDS = ['municipality']\n",
    "OUT_FNAME = FEATURES_FOLDER + 'mosaiks_features_by_municipality_mexico.csv'"
   ]
  },
  {
   "cell_type": "code",
   "execution_count": 77,
   "metadata": {},
   "outputs": [],
   "source": [
    "# RUN THIS CELL FOR INDIA\n",
    "# Esther TODO"
   ]
  },
  {
   "cell_type": "code",
   "execution_count": 45,
   "metadata": {},
   "outputs": [],
   "source": [
    "# RUN THIS CELL FOR DHS CLUSTERS\n",
    "dhs_country = 'peru'\n",
    "FEATURES_INFOLDER = TILES_FOLDER + 'dhs/' + dhs_country + '/featurized/'\n",
    "SAMPLE_FNAME = TILES_FOLDER + 'dhs/' + dhs_country + '/sampled_tiles.csv'\n",
    "SHAPEFILE_IDS = ['cluster']\n",
    "OUT_FNAME = FEATURES_FOLDER + 'dhs/mosaiks_features_by_cluster_' + dhs_country + '.csv'"
   ]
  },
  {
   "cell_type": "code",
   "execution_count": 46,
   "metadata": {},
   "outputs": [],
   "source": [
    "# Read raw mosaiks features\n",
    "mosaiks = []\n",
    "for fname in os.listdir(FEATURES_INFOLDER):\n",
    "    if fname[-4:] == '.csv':\n",
    "        mosaiks.append(pd.read_csv(FEATURES_INFOLDER + '/' + fname))\n",
    "mosaiks = pd.concat(mosaiks).drop_duplicates(subset=['Lat', 'Lon'])\n",
    "mosaiks.columns = ['Latitude', 'Longitude'] + ['Feature' + str(i) for i in range(len(mosaiks.columns) - 2)]\n",
    "\n",
    "# Merge mosaiks features to original sample file\n",
    "sample = pd.read_csv(SAMPLE_FNAME)\n",
    "mosaiks = mosaiks.merge(sample, how='inner', on=['Latitude', 'Longitude'])"
   ]
  },
  {
   "cell_type": "code",
   "execution_count": 47,
   "metadata": {},
   "outputs": [],
   "source": [
    "# Take weighted average of MOSAIKs features in each region\n",
    "for col in [c for c in mosaiks.columns if 'Feature' in c]:\n",
    "    mosaiks[col] = mosaiks[col]*mosaiks['weight']\n",
    "average_features = mosaiks.groupby(SHAPEFILE_IDS, as_index=False).agg('sum')\n",
    "for col in [c for c in average_features.columns if 'Feature' in c]:\n",
    "    average_features[col] = average_features[col]/average_features['weight']\n",
    "average_features = average_features.drop(['weight', 'Latitude', 'Longitude'], axis=1)\n",
    "average_features.to_csv(OUT_FNAME, index=False)"
   ]
  },
  {
   "cell_type": "code",
   "execution_count": null,
   "metadata": {},
   "outputs": [],
   "source": []
  }
 ],
 "metadata": {
  "kernelspec": {
   "display_name": "py3",
   "language": "python",
   "name": "py3"
  },
  "language_info": {
   "codemirror_mode": {
    "name": "ipython",
    "version": 3
   },
   "file_extension": ".py",
   "mimetype": "text/x-python",
   "name": "python",
   "nbconvert_exporter": "python",
   "pygments_lexer": "ipython3",
   "version": "3.7.7"
  }
 },
 "nbformat": 4,
 "nbformat_minor": 4
}
