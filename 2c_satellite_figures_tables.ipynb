{
 "cells": [
  {
   "cell_type": "markdown",
   "metadata": {},
   "source": [
    "# 2c. Satellite featurizations part 3 -- Satellite-related figures and tables"
   ]
  },
  {
   "cell_type": "code",
   "execution_count": 6,
   "metadata": {},
   "outputs": [],
   "source": [
    "import numpy as np\n",
    "import pandas as pd\n",
    "import geopandas as gpd\n",
    "import matplotlib.pyplot as plt\n",
    "from matplotlib.colors import ListedColormap"
   ]
  },
  {
   "cell_type": "markdown",
   "metadata": {},
   "source": [
    "### Table S1: Summary of datasets"
   ]
  },
  {
   "cell_type": "code",
   "execution_count": 7,
   "metadata": {},
   "outputs": [],
   "source": [
    "TILES_FOLDER = '/data/mosaiks/replication/sampled_tiles/'"
   ]
  },
  {
   "cell_type": "code",
   "execution_count": 8,
   "metadata": {},
   "outputs": [
    {
     "data": {
      "text/html": [
       "<div>\n",
       "<style scoped>\n",
       "    .dataframe tbody tr th:only-of-type {\n",
       "        vertical-align: middle;\n",
       "    }\n",
       "\n",
       "    .dataframe tbody tr th {\n",
       "        vertical-align: top;\n",
       "    }\n",
       "\n",
       "    .dataframe thead th {\n",
       "        text-align: right;\n",
       "    }\n",
       "</style>\n",
       "<table border=\"1\" class=\"dataframe\">\n",
       "  <thead>\n",
       "    <tr style=\"text-align: right;\">\n",
       "      <th></th>\n",
       "      <th>Country</th>\n",
       "      <th>Regions</th>\n",
       "      <th>% Rural</th>\n",
       "      <th>Min. Tiles</th>\n",
       "      <th>Mean Tiles</th>\n",
       "      <th>Max Tiles</th>\n",
       "    </tr>\n",
       "  </thead>\n",
       "  <tbody>\n",
       "    <tr>\n",
       "      <th>0</th>\n",
       "      <td>mexico</td>\n",
       "      <td>2446</td>\n",
       "      <td>56.09</td>\n",
       "      <td>6</td>\n",
       "      <td>89.32</td>\n",
       "      <td>100</td>\n",
       "    </tr>\n",
       "    <tr>\n",
       "      <th>1</th>\n",
       "      <td>dhs/colombia</td>\n",
       "      <td>4868</td>\n",
       "      <td>30.14</td>\n",
       "      <td>16</td>\n",
       "      <td>51.57</td>\n",
       "      <td>88</td>\n",
       "    </tr>\n",
       "    <tr>\n",
       "      <th>2</th>\n",
       "      <td>dhs/honduras</td>\n",
       "      <td>1128</td>\n",
       "      <td>56.21</td>\n",
       "      <td>16</td>\n",
       "      <td>57.93</td>\n",
       "      <td>86</td>\n",
       "    </tr>\n",
       "    <tr>\n",
       "      <th>3</th>\n",
       "      <td>dhs/indonesia</td>\n",
       "      <td>1319</td>\n",
       "      <td>57.77</td>\n",
       "      <td>16</td>\n",
       "      <td>57.58</td>\n",
       "      <td>87</td>\n",
       "    </tr>\n",
       "    <tr>\n",
       "      <th>4</th>\n",
       "      <td>dhs/kenya</td>\n",
       "      <td>1585</td>\n",
       "      <td>61.20</td>\n",
       "      <td>16</td>\n",
       "      <td>60.17</td>\n",
       "      <td>86</td>\n",
       "    </tr>\n",
       "    <tr>\n",
       "      <th>5</th>\n",
       "      <td>dhs/nigeria</td>\n",
       "      <td>1382</td>\n",
       "      <td>58.76</td>\n",
       "      <td>16</td>\n",
       "      <td>56.08</td>\n",
       "      <td>86</td>\n",
       "    </tr>\n",
       "    <tr>\n",
       "      <th>6</th>\n",
       "      <td>dhs/peru</td>\n",
       "      <td>1131</td>\n",
       "      <td>38.82</td>\n",
       "      <td>16</td>\n",
       "      <td>46.97</td>\n",
       "      <td>85</td>\n",
       "    </tr>\n",
       "    <tr>\n",
       "      <th>7</th>\n",
       "      <td>dhs/philippines</td>\n",
       "      <td>1213</td>\n",
       "      <td>63.97</td>\n",
       "      <td>16</td>\n",
       "      <td>61.87</td>\n",
       "      <td>88</td>\n",
       "    </tr>\n",
       "  </tbody>\n",
       "</table>\n",
       "</div>"
      ],
      "text/plain": [
       "           Country  Regions % Rural  Min. Tiles Mean Tiles  Max Tiles\n",
       "0           mexico     2446   56.09           6      89.32        100\n",
       "1     dhs/colombia     4868   30.14          16      51.57         88\n",
       "2     dhs/honduras     1128   56.21          16      57.93         86\n",
       "3    dhs/indonesia     1319   57.77          16      57.58         87\n",
       "4        dhs/kenya     1585   61.20          16      60.17         86\n",
       "5      dhs/nigeria     1382   58.76          16      56.08         86\n",
       "6         dhs/peru     1131   38.82          16      46.97         85\n",
       "7  dhs/philippines     1213   63.97          16      61.87         88"
      ]
     },
     "execution_count": 8,
     "metadata": {},
     "output_type": "execute_result"
    }
   ],
   "source": [
    "table = []\n",
    "\n",
    "for country in ['mexico', 'dhs/colombia', 'dhs/honduras', 'dhs/indonesia', 'dhs/kenya', 'dhs/nigeria', \n",
    "                'dhs/peru','dhs/philippines']:\n",
    "    meta = pd.read_csv(TILES_FOLDER + country + '/meta.csv')\n",
    "    if country == 'mexico':\n",
    "        survey = pd.read_csv('/data/mosaiks/surveys/' + country + '/grouped.csv')\n",
    "    else:\n",
    "        survey = pd.read_csv('/data/mosaiks/surveys/' + country + '_grouped.csv')\n",
    "    table.append([country, len(survey), '%.2f' % (100*survey['rural'].mean()), meta['count'].min(), \n",
    "                  '%.2f' % meta['count'].mean(), meta['count'].max()])\n",
    "table = pd.DataFrame(table)\n",
    "table.columns = ['Country', 'Regions', '% Rural', 'Min. Tiles', 'Mean Tiles', 'Max Tiles']\n",
    "table"
   ]
  },
  {
   "cell_type": "markdown",
   "metadata": {},
   "source": [
    "### Figure S1"
   ]
  },
  {
   "cell_type": "code",
   "execution_count": null,
   "metadata": {},
   "outputs": [],
   "source": [
    "# Esther TODO"
   ]
  },
  {
   "cell_type": "markdown",
   "metadata": {},
   "source": [
    "### Figure S2"
   ]
  },
  {
   "cell_type": "code",
   "execution_count": 24,
   "metadata": {},
   "outputs": [],
   "source": [
    "# Esther TODO"
   ]
  },
  {
   "cell_type": "code",
   "execution_count": null,
   "metadata": {},
   "outputs": [],
   "source": []
  }
 ],
 "metadata": {
  "kernelspec": {
   "display_name": "py3",
   "language": "python",
   "name": "py3"
  },
  "language_info": {
   "codemirror_mode": {
    "name": "ipython",
    "version": 3
   },
   "file_extension": ".py",
   "mimetype": "text/x-python",
   "name": "python",
   "nbconvert_exporter": "python",
   "pygments_lexer": "ipython3",
   "version": "3.7.7"
  }
 },
 "nbformat": 4,
 "nbformat_minor": 4
}
