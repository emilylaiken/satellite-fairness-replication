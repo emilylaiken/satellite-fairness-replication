{
 "cells": [
  {
   "cell_type": "markdown",
   "metadata": {},
   "source": [
    "# 1c. Cleaning DHS surveys\n",
    "DHS survey data is obtained from https://dhsprogram.com/data/dataset_admin/"
   ]
  },
  {
   "cell_type": "code",
   "execution_count": 4,
   "metadata": {},
   "outputs": [],
   "source": [
    "import pandas as pd\n",
    "import geopandas as gpd\n",
    "import matplotlib.pyplot as plt"
   ]
  },
  {
   "cell_type": "code",
   "execution_count": 11,
   "metadata": {},
   "outputs": [],
   "source": [
    "surveys = {\n",
    "    'colombia':['COHR61FL.DTA', 'COGE61FL.shp'],\n",
    "    'honduras':['HNHR62FL.DTA', 'HNGE61FL.shp'],\n",
    "    'indonesia':['IDHR42FL.DTA', 'IDGE43FL.shp'],\n",
    "    'kenya':['KEHR72FL.DTA', 'KEGE71FL.shp'],\n",
    "    'nigeria':['NGHR7BFL.DTA', 'NGGE7BFL.shp'],\n",
    "    'peru':['PEHR5IFL.DTA', 'PEGE5IFL.shp'],\n",
    "    'philippines':['PHHR71FL.DTA', 'PHGE71FL.shp']\n",
    "}"
   ]
  },
  {
   "cell_type": "code",
   "execution_count": 8,
   "metadata": {},
   "outputs": [
    {
     "name": "stdout",
     "output_type": "stream",
     "text": [
      "kenya\n",
      "--------\n",
      "Number of observations: 36430\n",
      "Number of clusters: 1594\n",
      "Number of clusters in shapefile: 1594\n",
      "Number of clusters without spatial information: 9\n",
      "nigeria\n",
      "--------\n",
      "Number of observations: 40427\n",
      "Number of clusters: 1389\n",
      "Number of clusters in shapefile: 1389\n",
      "Number of clusters without spatial information: 7\n",
      "peru\n",
      "--------\n",
      "Number of observations: 26834\n",
      "Number of clusters: 1132\n",
      "Number of clusters in shapefile: 1132\n",
      "Number of clusters without spatial information: 1\n",
      "philippines\n",
      "--------\n",
      "Number of observations: 27496\n",
      "Number of clusters: 1249\n",
      "Number of clusters in shapefile: 1250\n",
      "Number of clusters without spatial information: 36\n"
     ]
    }
   ],
   "source": [
    "for country in surveys.keys():\n",
    "    \n",
    "    print(country)\n",
    "    print('--------')\n",
    "    survey_fname, shapefile_fname = surveys[country][0], surveys[country][1]\n",
    "    \n",
    "    # Clean survey data\n",
    "    df = pd.read_stata('/data/mosaiks/dhs/' + country + '/raw/survey/' + survey_fname, convert_categoricals=False)\n",
    "    df = df[['hhid', 'hv001', 'hv005', 'hv271']]\n",
    "    df.columns = ['hhid', 'cluster', 'weight', 'wealth']\n",
    "    print('Number of observations: %i' % len(df))\n",
    "    print('Number of clusters: %i' % len(df['cluster'].unique()))\n",
    "    df.to_csv('/data/mosaiks/replication/dhs/' + country + 'survey.csv', index=False)\n",
    "\n",
    "    # Clean spatial data\n",
    "    spatial = gpd.read_file('/data/mosaiks/dhs/' + country + '/raw/shapefile/' + shapefile_fname)\n",
    "    original_length = len(spatial)\n",
    "    print('Number of clusters in shapefile: %i' % original_length)\n",
    "    spatial = spatial[['DHSCLUST', 'URBAN_RURA', 'LATNUM', 'LONGNUM']]\n",
    "    spatial.columns = ['cluster', 'urban', 'lat', 'lon']\n",
    "    spatial = spatial[~((spatial['lat'] == 0) & (spatial['lon'] == 0))]\n",
    "    end_length = len(spatial)\n",
    "    print('Number of clusters without spatial information: %i' % (original_length - end_length))\n",
    "    spatial.to_csv('/data/mosaiks/replication/dhs/' + country + 'clusters.csv', index=False)\n",
    "    "
   ]
  },
  {
   "cell_type": "code",
   "execution_count": 9,
   "metadata": {},
   "outputs": [],
   "source": [
    "def grouped_weighted_mean(df, agg_cols, feature_cols, weight_col):\n",
    "    data = df.copy()\n",
    "    for feature_col in feature_cols:\n",
    "        data[feature_col] = data[feature_col]*data[weight_col]\n",
    "    data = data.groupby(agg_cols, as_index=False).agg('sum')\n",
    "    for feature_col in feature_cols:\n",
    "        data[feature_col] = data[feature_col]/data[weight_col] \n",
    "    return data[agg_cols + feature_cols + [weight_col]]"
   ]
  },
  {
   "cell_type": "code",
   "execution_count": 15,
   "metadata": {},
   "outputs": [
    {
     "name": "stdout",
     "output_type": "stream",
     "text": [
      "colombia 0.3\n",
      "honduras 0.56\n",
      "indonesia 0.58\n",
      "kenya 0.61\n",
      "nigeria 0.59\n",
      "peru 0.39\n",
      "philippines 0.64\n"
     ]
    }
   ],
   "source": [
    "for country in list(surveys.keys()):\n",
    "\n",
    "    # Cluster level\n",
    "    survey = pd.read_csv('/data/mosaiks/replication/dhs/' + country + 'survey.csv')\n",
    "    grouped = grouped_weighted_mean(survey, ['cluster'], ['wealth'], 'weight')\n",
    "    gps = pd.read_csv('/data/mosaiks/replication/dhs/' + country + 'clusters.csv')\\\n",
    "        .rename({'urban':'rural'}, axis=1)\n",
    "    gps['rural'] = (gps['rural'] == 'R').astype('int')\n",
    "    grouped = grouped.merge(gps, on='cluster', how='inner')\n",
    "    grouped[['cluster', 'wealth', 'weight', 'rural']]\\\n",
    "        .to_csv('/data/mosaiks/replication/surveys/dhs/' + country + '_grouped.csv', index=False)\n",
    "    print(country, round(grouped['rural'].mean(), 2))\n",
    "    \n",
    "    # Merge cluster-level info to survey\n",
    "    survey = survey.merge(gps[['cluster', 'rural']], on='cluster', how='inner')\n",
    "    survey.to_csv('/data/mosaiks/replication/surveys/dhs/' + country + '_hh.csv', index=False)\n",
    "    \n",
    "    # Get geometries\n",
    "    geo = gpd.GeoDataFrame(gps, geometry=gpd.points_from_xy(gps['lon'], gps['lat']), crs='epsg:4236')\n",
    "    geo = geo.to_crs('EPSG:32662')\n",
    "    geo['geometry_urban'] = geo['geometry'].buffer(2000)\n",
    "    geo['geometry_rural'] = geo['geometry'].buffer(5000)\n",
    "    geo['geometry'] = geo.apply(lambda row: row['geometry_rural'] if row['rural'] == 1 else \n",
    "        row['geometry_urban'], axis=1)\n",
    "    geo = geo.to_crs('epsg:4236')\n",
    "    geo = geo[['cluster', 'geometry']]\n",
    "    geo.to_file('/data/mosaiks/replication/surveys/dhs/' + country + '_polygons.geojson', driver='GeoJSON')"
   ]
  },
  {
   "cell_type": "code",
   "execution_count": null,
   "metadata": {},
   "outputs": [],
   "source": []
  }
 ],
 "metadata": {
  "kernelspec": {
   "display_name": "py3",
   "language": "python",
   "name": "py3"
  },
  "language_info": {
   "codemirror_mode": {
    "name": "ipython",
    "version": 3
   },
   "file_extension": ".py",
   "mimetype": "text/x-python",
   "name": "python",
   "nbconvert_exporter": "python",
   "pygments_lexer": "ipython3",
   "version": "3.7.9"
  }
 },
 "nbformat": 4,
 "nbformat_minor": 4
}
