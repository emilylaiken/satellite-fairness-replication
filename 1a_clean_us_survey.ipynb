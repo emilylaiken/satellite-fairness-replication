{
 "cells": [
  {
   "cell_type": "markdown",
   "metadata": {},
   "source": [
    "# 1a. Survey Cleaning - US \n",
    "Survey data from the US is from the 2019 ACS, obtained from Folktables (https://github.com/socialfoundations/folktables)"
   ]
  },
  {
   "cell_type": "code",
   "execution_count": 1,
   "metadata": {},
   "outputs": [],
   "source": [
    "import json\n",
    "import numpy as np\n",
    "import pandas as pd\n",
    "import geopandas as gpd\n",
    "import json"
   ]
  },
  {
   "cell_type": "code",
   "execution_count": 2,
   "metadata": {},
   "outputs": [],
   "source": [
    "HH_SURVEY_FNAME = '/data/mosaiks/surveys/us/household_2019.csv'\n",
    "POPULATION_DENSITY_FNAME = '/data/mosaiks/surveys/us/population_density_by_puma.csv'\n",
    "SHAPEFILE_FNAME = '/data/mosaiks/shapefiles/us_pumas/pumas.shp'\n",
    "GROUPED_OUT_FNAME = '/data/mosaiks/replication/surveys/us/groundtruth_by_puma_2019.csv'"
   ]
  },
  {
   "cell_type": "code",
   "execution_count": 3,
   "metadata": {},
   "outputs": [],
   "source": [
    "# Read in states metadata\n",
    "with open('/data/mosaiks/surveys/us/us_state_to_abbrev.json', 'r') as infile:\n",
    "    state_to_abbrev = json.load(infile)\n",
    "    abbrev_to_state = dict(map(reversed, state_to_abbrev.items()))\n",
    "with open('/data/mosaiks/surveys/us/us_state_to_code.json', 'r') as infile:\n",
    "    state_to_code = json.load(infile)\n",
    "    code_to_state = dict(map(reversed, state_to_code.items()))"
   ]
  },
  {
   "cell_type": "code",
   "execution_count": 4,
   "metadata": {},
   "outputs": [],
   "source": [
    "def grouped_weighted_mean(df, agg_cols, feature_cols, weight_col):\n",
    "    data = df.copy()\n",
    "    for feature_col in feature_cols:\n",
    "        data[feature_col] = data[feature_col]*data[weight_col]\n",
    "    data = data.groupby(agg_cols, as_index=False).agg('sum')\n",
    "    for feature_col in feature_cols:\n",
    "        data[feature_col] = data[feature_col]/data[weight_col] \n",
    "    return data[agg_cols + feature_cols + [weight_col]]"
   ]
  },
  {
   "cell_type": "code",
   "execution_count": 5,
   "metadata": {},
   "outputs": [
    {
     "name": "stdout",
     "output_type": "stream",
     "text": [
      "Population density data\n",
      "------------------------\n",
      "PUMAs with data: 2351\n"
     ]
    }
   ],
   "source": [
    "# Read in population density data\n",
    "print('Population density data')\n",
    "print('------------------------')\n",
    "pop_density = pd.read_csv(POPULATION_DENSITY_FNAME)[['state', 'pumanum', 'simpledensity', 'pumapop']]\\\n",
    "    .rename({'pumanum':'PUMA', 'simpledensity':'pop_density', 'state':'STATE', 'pumapop':'population'}, axis=1)\n",
    "pop_density['rural'] = (pop_density['pop_density'] < 500).astype('int')\n",
    "print('PUMAs with data: %i' % len(pop_density))"
   ]
  },
  {
   "cell_type": "code",
   "execution_count": 6,
   "metadata": {},
   "outputs": [
    {
     "name": "stdout",
     "output_type": "stream",
     "text": [
      "Household data\n",
      "---------------\n",
      "Starting number of observations: 1534367\n",
      "Observations with >0 weight: 1384937\n",
      "Observations with non-null target: 834979\n",
      "Regions with data: 2331\n"
     ]
    }
   ],
   "source": [
    "# Read in household data, filter to HH with non-0 weight and non-null income\n",
    "print('Household data')\n",
    "print('---------------')\n",
    "hh = pd.read_csv(HH_SURVEY_FNAME)\n",
    "print('Starting number of observations: %i' % len(hh))\n",
    "hh = hh[hh['WGTP'] > 0]\n",
    "print('Observations with >0 weight: %i' % len(hh))\n",
    "hh = hh.dropna(subset=['FINCP'])\n",
    "print('Observations with non-null target: %i' % len(hh))\n",
    "\n",
    "# Get average by PUMA for HH variables\n",
    "hh_grouped = grouped_weighted_mean(hh, ['PUMA', 'STATE'], ['FINCP'], 'WGTP')\n",
    "print('Regions with data: %i' % len(hh_grouped))"
   ]
  },
  {
   "cell_type": "code",
   "execution_count": 7,
   "metadata": {},
   "outputs": [
    {
     "name": "stderr",
     "output_type": "stream",
     "text": [
      "/home/em/.conda/envs/py3/lib/python3.7/site-packages/pyproj/crs/crs.py:53: FutureWarning: '+init=<authority>:<code>' syntax is deprecated. '<authority>:<code>' is the preferred initialization method. When making the change, be mindful of axis order changes: https://pyproj4.github.io/pyproj/stable/gotchas.html#axis-order-changes-in-proj-6\n",
      "  return _prepare_from_string(\" \".join(pjargs))\n"
     ]
    }
   ],
   "source": [
    "# Get area data from shapefile\n",
    "shapefile = gpd.read_file(SHAPEFILE_FNAME)\n",
    "shapefile = shapefile.to_crs({'proj':'cea'})\n",
    "shapefile['Area'] = shapefile['geometry'].area/(10**6)\n",
    "shapefile = shapefile[['PUMA', 'State', 'Area']]"
   ]
  },
  {
   "cell_type": "code",
   "execution_count": 9,
   "metadata": {},
   "outputs": [
    {
     "name": "stdout",
     "output_type": "stream",
     "text": [
      "Merged data\n",
      "-----------\n",
      "PUMAs with data: 2331\n"
     ]
    }
   ],
   "source": [
    "# Merge data sources together\n",
    "print('Merged data')\n",
    "print('-----------')\n",
    "puma_statistics = hh_grouped.merge(pop_density, on=['STATE', 'PUMA'], how='inner')\n",
    "puma_statistics['State'] = puma_statistics['STATE'].apply(lambda x: abbrev_to_state[x])\n",
    "puma_statistics = puma_statistics.merge(shapefile, on=['State', 'PUMA'], how='inner')\n",
    "puma_statistics.to_csv(GROUPED_OUT_FNAME, index=False)\n",
    "print('PUMAs with data: %i' % len(puma_statistics))"
   ]
  },
  {
   "cell_type": "code",
   "execution_count": null,
   "metadata": {},
   "outputs": [],
   "source": []
  }
 ],
 "metadata": {
  "kernelspec": {
   "display_name": "py3",
   "language": "python",
   "name": "py3"
  },
  "language_info": {
   "codemirror_mode": {
    "name": "ipython",
    "version": 3
   },
   "file_extension": ".py",
   "mimetype": "text/x-python",
   "name": "python",
   "nbconvert_exporter": "python",
   "pygments_lexer": "ipython3",
   "version": "3.7.7"
  }
 },
 "nbformat": 4,
 "nbformat_minor": 5
}
