{
 "cells": [
  {
   "cell_type": "markdown",
   "id": "e16f3ad5",
   "metadata": {},
   "source": [
    "# 1d. Clean survey data in India\n",
    "India survey data comes from the 2012 SECC, access via SHRUG (https://www.devdatalab.org/shrug)"
   ]
  },
  {
   "cell_type": "code",
   "execution_count": 11,
   "id": "3120645b",
   "metadata": {},
   "outputs": [],
   "source": [
    "import numpy as np\n",
    "import pandas as pd\n",
    "import geopandas as gpd\n",
    "import os\n",
    "\n",
    "import matplotlib.pyplot as plt\n",
    "import seaborn as sns"
   ]
  },
  {
   "cell_type": "code",
   "execution_count": 12,
   "id": "0cab09bb",
   "metadata": {},
   "outputs": [
    {
     "data": {
      "text/html": [
       "<div>\n",
       "<style scoped>\n",
       "    .dataframe tbody tr th:only-of-type {\n",
       "        vertical-align: middle;\n",
       "    }\n",
       "\n",
       "    .dataframe tbody tr th {\n",
       "        vertical-align: top;\n",
       "    }\n",
       "\n",
       "    .dataframe thead th {\n",
       "        text-align: right;\n",
       "    }\n",
       "</style>\n",
       "<table border=\"1\" class=\"dataframe\">\n",
       "  <thead>\n",
       "    <tr style=\"text-align: right;\">\n",
       "      <th></th>\n",
       "      <th>shrid</th>\n",
       "      <th>pc11_pca_tot_p</th>\n",
       "      <th>shrid_pc11_pca_tot_p_r</th>\n",
       "      <th>shrid_pc11_pca_tot_p_u</th>\n",
       "      <th>ec13_emp_all</th>\n",
       "      <th>ec13_emp_manuf</th>\n",
       "      <th>secc_cons_pc_rural</th>\n",
       "      <th>secc_pov_rate_rural</th>\n",
       "      <th>secc_pov_rate_urban</th>\n",
       "      <th>secc_cons_pc_urban</th>\n",
       "      <th>viirs_mean_light_2020</th>\n",
       "      <th>dmsp_mean_light_2012</th>\n",
       "    </tr>\n",
       "  </thead>\n",
       "  <tbody>\n",
       "    <tr>\n",
       "      <th>0</th>\n",
       "      <td>11-01-001-00001-000002</td>\n",
       "      <td>3770.0</td>\n",
       "      <td>3770.0</td>\n",
       "      <td>NaN</td>\n",
       "      <td>49.0</td>\n",
       "      <td>0.0</td>\n",
       "      <td>13509.517578</td>\n",
       "      <td>0.477891</td>\n",
       "      <td>NaN</td>\n",
       "      <td>NaN</td>\n",
       "      <td>0.295413</td>\n",
       "      <td>0.0</td>\n",
       "    </tr>\n",
       "    <tr>\n",
       "      <th>1</th>\n",
       "      <td>11-01-001-00001-000005</td>\n",
       "      <td>5255.0</td>\n",
       "      <td>5255.0</td>\n",
       "      <td>NaN</td>\n",
       "      <td>82.0</td>\n",
       "      <td>9.0</td>\n",
       "      <td>8611.757812</td>\n",
       "      <td>0.776421</td>\n",
       "      <td>NaN</td>\n",
       "      <td>NaN</td>\n",
       "      <td>0.000000</td>\n",
       "      <td>0.0</td>\n",
       "    </tr>\n",
       "  </tbody>\n",
       "</table>\n",
       "</div>"
      ],
      "text/plain": [
       "                    shrid  pc11_pca_tot_p  shrid_pc11_pca_tot_p_r  \\\n",
       "0  11-01-001-00001-000002          3770.0                  3770.0   \n",
       "1  11-01-001-00001-000005          5255.0                  5255.0   \n",
       "\n",
       "   shrid_pc11_pca_tot_p_u  ec13_emp_all  ec13_emp_manuf  secc_cons_pc_rural  \\\n",
       "0                     NaN          49.0             0.0        13509.517578   \n",
       "1                     NaN          82.0             9.0         8611.757812   \n",
       "\n",
       "   secc_pov_rate_rural  secc_pov_rate_urban  secc_cons_pc_urban  \\\n",
       "0             0.477891                  NaN                 NaN   \n",
       "1             0.776421                  NaN                 NaN   \n",
       "\n",
       "   viirs_mean_light_2020  dmsp_mean_light_2012  \n",
       "0               0.295413                   0.0  \n",
       "1               0.000000                   0.0  "
      ]
     },
     "execution_count": 12,
     "metadata": {},
     "output_type": "execute_result"
    }
   ],
   "source": [
    "data_dir = '/data/mosaiks/shrug/'\n",
    "data_fp = os.path.join(data_dir,'shrug_stats.dta')\n",
    "\n",
    "data_full = pd.read_stata(data_fp)\n",
    "all_df = data_full.copy(deep=True)\n",
    "data_full.head(2)\n"
   ]
  },
  {
   "cell_type": "code",
   "execution_count": 13,
   "id": "4e76b08e",
   "metadata": {},
   "outputs": [],
   "source": [
    "# read in shapefiles\n",
    "shapefile_fp = os.path.join(data_dir,'shrid2.gpkg')\n",
    "shapefiles_full = gpd.read_file(shapefile_fp)"
   ]
  },
  {
   "cell_type": "code",
   "execution_count": 14,
   "id": "2b1dab40",
   "metadata": {},
   "outputs": [
    {
     "data": {
      "text/plain": [
       "552290"
      ]
     },
     "execution_count": 14,
     "metadata": {},
     "output_type": "execute_result"
    }
   ],
   "source": [
    "# remove any with thiessen shapefiles\n",
    "shps = shapefiles_full[shapefiles_full.polytype != 'thiessen'].copy()\n",
    "data_with_shps = data_full.merge(shps[['shrid','pc11_id','geometry']],on='shrid', how='inner')\n",
    "len(data_with_shps)"
   ]
  },
  {
   "cell_type": "code",
   "execution_count": 51,
   "id": "dc5e1716",
   "metadata": {},
   "outputs": [
    {
     "data": {
      "text/html": [
       "<div>\n",
       "<style scoped>\n",
       "    .dataframe tbody tr th:only-of-type {\n",
       "        vertical-align: middle;\n",
       "    }\n",
       "\n",
       "    .dataframe tbody tr th {\n",
       "        vertical-align: top;\n",
       "    }\n",
       "\n",
       "    .dataframe thead th {\n",
       "        text-align: right;\n",
       "    }\n",
       "</style>\n",
       "<table border=\"1\" class=\"dataframe\">\n",
       "  <thead>\n",
       "    <tr style=\"text-align: right;\">\n",
       "      <th></th>\n",
       "      <th>shrid</th>\n",
       "      <th>pc11_pca_tot_p</th>\n",
       "      <th>shrid_pc11_pca_tot_p_r</th>\n",
       "      <th>shrid_pc11_pca_tot_p_u</th>\n",
       "      <th>ec13_emp_all</th>\n",
       "      <th>ec13_emp_manuf</th>\n",
       "      <th>secc_cons_pc_rural</th>\n",
       "      <th>secc_pov_rate_rural</th>\n",
       "      <th>secc_pov_rate_urban</th>\n",
       "      <th>secc_cons_pc_urban</th>\n",
       "      <th>viirs_mean_light_2020</th>\n",
       "      <th>dmsp_mean_light_2012</th>\n",
       "      <th>pc11_id</th>\n",
       "      <th>geometry</th>\n",
       "    </tr>\n",
       "  </thead>\n",
       "  <tbody>\n",
       "    <tr>\n",
       "      <th>0</th>\n",
       "      <td>11-01-001-00001-000002</td>\n",
       "      <td>3770.0</td>\n",
       "      <td>3770.0</td>\n",
       "      <td>NaN</td>\n",
       "      <td>49.0</td>\n",
       "      <td>0.0</td>\n",
       "      <td>13509.517578</td>\n",
       "      <td>0.477891</td>\n",
       "      <td>NaN</td>\n",
       "      <td>NaN</td>\n",
       "      <td>0.295413</td>\n",
       "      <td>0.000000</td>\n",
       "      <td>000002</td>\n",
       "      <td>POLYGON ((73.83562 34.55965, 73.82536 34.56084...</td>\n",
       "    </tr>\n",
       "    <tr>\n",
       "      <th>1</th>\n",
       "      <td>11-01-001-00001-000005</td>\n",
       "      <td>5255.0</td>\n",
       "      <td>5255.0</td>\n",
       "      <td>NaN</td>\n",
       "      <td>82.0</td>\n",
       "      <td>9.0</td>\n",
       "      <td>8611.757812</td>\n",
       "      <td>0.776421</td>\n",
       "      <td>NaN</td>\n",
       "      <td>NaN</td>\n",
       "      <td>0.000000</td>\n",
       "      <td>0.000000</td>\n",
       "      <td>000005</td>\n",
       "      <td>POLYGON ((73.94629 34.56991, 73.94711 34.57160...</td>\n",
       "    </tr>\n",
       "    <tr>\n",
       "      <th>2</th>\n",
       "      <td>11-01-001-00001-000006</td>\n",
       "      <td>3001.0</td>\n",
       "      <td>3001.0</td>\n",
       "      <td>NaN</td>\n",
       "      <td>43.0</td>\n",
       "      <td>8.0</td>\n",
       "      <td>9498.938477</td>\n",
       "      <td>0.730325</td>\n",
       "      <td>NaN</td>\n",
       "      <td>NaN</td>\n",
       "      <td>0.000000</td>\n",
       "      <td>0.000000</td>\n",
       "      <td>000006</td>\n",
       "      <td>POLYGON ((73.99655 34.53958, 73.99404 34.54025...</td>\n",
       "    </tr>\n",
       "    <tr>\n",
       "      <th>3</th>\n",
       "      <td>11-01-001-00001-000007</td>\n",
       "      <td>1310.0</td>\n",
       "      <td>1310.0</td>\n",
       "      <td>NaN</td>\n",
       "      <td>47.0</td>\n",
       "      <td>9.0</td>\n",
       "      <td>11964.706055</td>\n",
       "      <td>0.530650</td>\n",
       "      <td>NaN</td>\n",
       "      <td>NaN</td>\n",
       "      <td>0.000000</td>\n",
       "      <td>0.000000</td>\n",
       "      <td>000007</td>\n",
       "      <td>POLYGON ((74.04991 34.56041, 74.05875 34.55555...</td>\n",
       "    </tr>\n",
       "    <tr>\n",
       "      <th>4</th>\n",
       "      <td>11-01-001-00001-000008</td>\n",
       "      <td>129.0</td>\n",
       "      <td>129.0</td>\n",
       "      <td>NaN</td>\n",
       "      <td>NaN</td>\n",
       "      <td>NaN</td>\n",
       "      <td>NaN</td>\n",
       "      <td>NaN</td>\n",
       "      <td>NaN</td>\n",
       "      <td>NaN</td>\n",
       "      <td>0.569642</td>\n",
       "      <td>0.000000</td>\n",
       "      <td>000008</td>\n",
       "      <td>POLYGON ((74.05124 34.58150, 74.05097 34.58295...</td>\n",
       "    </tr>\n",
       "    <tr>\n",
       "      <th>...</th>\n",
       "      <td>...</td>\n",
       "      <td>...</td>\n",
       "      <td>...</td>\n",
       "      <td>...</td>\n",
       "      <td>...</td>\n",
       "      <td>...</td>\n",
       "      <td>...</td>\n",
       "      <td>...</td>\n",
       "      <td>...</td>\n",
       "      <td>...</td>\n",
       "      <td>...</td>\n",
       "      <td>...</td>\n",
       "      <td>...</td>\n",
       "      <td>...</td>\n",
       "    </tr>\n",
       "    <tr>\n",
       "      <th>552285</th>\n",
       "      <td>11-34-637-05915-645007</td>\n",
       "      <td>6866.0</td>\n",
       "      <td>6866.0</td>\n",
       "      <td>NaN</td>\n",
       "      <td>1265.0</td>\n",
       "      <td>96.0</td>\n",
       "      <td>24773.896484</td>\n",
       "      <td>0.117859</td>\n",
       "      <td>NaN</td>\n",
       "      <td>NaN</td>\n",
       "      <td>4.213192</td>\n",
       "      <td>33.076923</td>\n",
       "      <td>645007</td>\n",
       "      <td>POLYGON ((79.78300 10.93428, 79.78519 10.93451...</td>\n",
       "    </tr>\n",
       "    <tr>\n",
       "      <th>552286</th>\n",
       "      <td>11-34-637-05915-645008</td>\n",
       "      <td>2321.0</td>\n",
       "      <td>2321.0</td>\n",
       "      <td>NaN</td>\n",
       "      <td>805.0</td>\n",
       "      <td>662.0</td>\n",
       "      <td>23575.189453</td>\n",
       "      <td>0.138053</td>\n",
       "      <td>NaN</td>\n",
       "      <td>NaN</td>\n",
       "      <td>1.423710</td>\n",
       "      <td>19.562500</td>\n",
       "      <td>645008</td>\n",
       "      <td>POLYGON ((79.74381 10.92124, 79.74391 10.92200...</td>\n",
       "    </tr>\n",
       "    <tr>\n",
       "      <th>552287</th>\n",
       "      <td>11-34-637-05915-645009</td>\n",
       "      <td>3890.0</td>\n",
       "      <td>3890.0</td>\n",
       "      <td>NaN</td>\n",
       "      <td>566.0</td>\n",
       "      <td>90.0</td>\n",
       "      <td>23443.544922</td>\n",
       "      <td>0.140813</td>\n",
       "      <td>NaN</td>\n",
       "      <td>NaN</td>\n",
       "      <td>0.970596</td>\n",
       "      <td>16.062500</td>\n",
       "      <td>645009</td>\n",
       "      <td>POLYGON ((79.73190 10.94147, 79.73238 10.93964...</td>\n",
       "    </tr>\n",
       "    <tr>\n",
       "      <th>552288</th>\n",
       "      <td>11-34-637-05915-645010</td>\n",
       "      <td>2482.0</td>\n",
       "      <td>2482.0</td>\n",
       "      <td>NaN</td>\n",
       "      <td>172.0</td>\n",
       "      <td>11.0</td>\n",
       "      <td>20881.154297</td>\n",
       "      <td>0.214994</td>\n",
       "      <td>NaN</td>\n",
       "      <td>NaN</td>\n",
       "      <td>2.153754</td>\n",
       "      <td>23.444445</td>\n",
       "      <td>645010</td>\n",
       "      <td>POLYGON ((79.77381 10.90571, 79.77368 10.90576...</td>\n",
       "    </tr>\n",
       "    <tr>\n",
       "      <th>552289</th>\n",
       "      <td>11-34-637-05915-645011</td>\n",
       "      <td>3192.0</td>\n",
       "      <td>3192.0</td>\n",
       "      <td>NaN</td>\n",
       "      <td>127.0</td>\n",
       "      <td>5.0</td>\n",
       "      <td>23211.431641</td>\n",
       "      <td>0.115108</td>\n",
       "      <td>NaN</td>\n",
       "      <td>NaN</td>\n",
       "      <td>1.663956</td>\n",
       "      <td>24.153847</td>\n",
       "      <td>645011</td>\n",
       "      <td>POLYGON ((79.77381 10.90571, 79.77389 10.90605...</td>\n",
       "    </tr>\n",
       "  </tbody>\n",
       "</table>\n",
       "<p>552290 rows × 14 columns</p>\n",
       "</div>"
      ],
      "text/plain": [
       "                         shrid  pc11_pca_tot_p  shrid_pc11_pca_tot_p_r  \\\n",
       "0       11-01-001-00001-000002          3770.0                  3770.0   \n",
       "1       11-01-001-00001-000005          5255.0                  5255.0   \n",
       "2       11-01-001-00001-000006          3001.0                  3001.0   \n",
       "3       11-01-001-00001-000007          1310.0                  1310.0   \n",
       "4       11-01-001-00001-000008           129.0                   129.0   \n",
       "...                        ...             ...                     ...   \n",
       "552285  11-34-637-05915-645007          6866.0                  6866.0   \n",
       "552286  11-34-637-05915-645008          2321.0                  2321.0   \n",
       "552287  11-34-637-05915-645009          3890.0                  3890.0   \n",
       "552288  11-34-637-05915-645010          2482.0                  2482.0   \n",
       "552289  11-34-637-05915-645011          3192.0                  3192.0   \n",
       "\n",
       "        shrid_pc11_pca_tot_p_u  ec13_emp_all  ec13_emp_manuf  \\\n",
       "0                          NaN          49.0             0.0   \n",
       "1                          NaN          82.0             9.0   \n",
       "2                          NaN          43.0             8.0   \n",
       "3                          NaN          47.0             9.0   \n",
       "4                          NaN           NaN             NaN   \n",
       "...                        ...           ...             ...   \n",
       "552285                     NaN        1265.0            96.0   \n",
       "552286                     NaN         805.0           662.0   \n",
       "552287                     NaN         566.0            90.0   \n",
       "552288                     NaN         172.0            11.0   \n",
       "552289                     NaN         127.0             5.0   \n",
       "\n",
       "        secc_cons_pc_rural  secc_pov_rate_rural  secc_pov_rate_urban  \\\n",
       "0             13509.517578             0.477891                  NaN   \n",
       "1              8611.757812             0.776421                  NaN   \n",
       "2              9498.938477             0.730325                  NaN   \n",
       "3             11964.706055             0.530650                  NaN   \n",
       "4                      NaN                  NaN                  NaN   \n",
       "...                    ...                  ...                  ...   \n",
       "552285        24773.896484             0.117859                  NaN   \n",
       "552286        23575.189453             0.138053                  NaN   \n",
       "552287        23443.544922             0.140813                  NaN   \n",
       "552288        20881.154297             0.214994                  NaN   \n",
       "552289        23211.431641             0.115108                  NaN   \n",
       "\n",
       "        secc_cons_pc_urban  viirs_mean_light_2020  dmsp_mean_light_2012  \\\n",
       "0                      NaN               0.295413              0.000000   \n",
       "1                      NaN               0.000000              0.000000   \n",
       "2                      NaN               0.000000              0.000000   \n",
       "3                      NaN               0.000000              0.000000   \n",
       "4                      NaN               0.569642              0.000000   \n",
       "...                    ...                    ...                   ...   \n",
       "552285                 NaN               4.213192             33.076923   \n",
       "552286                 NaN               1.423710             19.562500   \n",
       "552287                 NaN               0.970596             16.062500   \n",
       "552288                 NaN               2.153754             23.444445   \n",
       "552289                 NaN               1.663956             24.153847   \n",
       "\n",
       "       pc11_id                                           geometry  \n",
       "0       000002  POLYGON ((73.83562 34.55965, 73.82536 34.56084...  \n",
       "1       000005  POLYGON ((73.94629 34.56991, 73.94711 34.57160...  \n",
       "2       000006  POLYGON ((73.99655 34.53958, 73.99404 34.54025...  \n",
       "3       000007  POLYGON ((74.04991 34.56041, 74.05875 34.55555...  \n",
       "4       000008  POLYGON ((74.05124 34.58150, 74.05097 34.58295...  \n",
       "...        ...                                                ...  \n",
       "552285  645007  POLYGON ((79.78300 10.93428, 79.78519 10.93451...  \n",
       "552286  645008  POLYGON ((79.74381 10.92124, 79.74391 10.92200...  \n",
       "552287  645009  POLYGON ((79.73190 10.94147, 79.73238 10.93964...  \n",
       "552288  645010  POLYGON ((79.77381 10.90571, 79.77368 10.90576...  \n",
       "552289  645011  POLYGON ((79.77381 10.90571, 79.77389 10.90605...  \n",
       "\n",
       "[552290 rows x 14 columns]"
      ]
     },
     "execution_count": 51,
     "metadata": {},
     "output_type": "execute_result"
    }
   ],
   "source": [
    "data_with_shps"
   ]
  },
  {
   "cell_type": "markdown",
   "id": "6f701dad",
   "metadata": {},
   "source": [
    "#### 1. until paul gets us pc_11_pca_tot_u and pc_11_pca_tot_r, just ignore shrids with both urban and rural"
   ]
  },
  {
   "cell_type": "code",
   "execution_count": 17,
   "id": "5c34cbca",
   "metadata": {},
   "outputs": [
    {
     "name": "stdout",
     "output_type": "stream",
     "text": [
      "26422 entries dropped for not having consumption value\n"
     ]
    }
   ],
   "source": [
    "all_df = data_with_shps.dropna(subset=['secc_cons_pc_rural','secc_cons_pc_urban'],how='all').copy()\n",
    "print(f'{len(data_with_shps) - len(all_df)} entries dropped for not having consumption value')"
   ]
  },
  {
   "cell_type": "code",
   "execution_count": 18,
   "id": "0ad757a1",
   "metadata": {},
   "outputs": [
    {
     "name": "stdout",
     "output_type": "stream",
     "text": [
      "0.9935383023876714\n",
      "0.006701301467288369\n",
      "1.0002396038549597\n"
     ]
    }
   ],
   "source": [
    "all_df.loc[:,'rural'] = all_df['secc_cons_pc_rural'].notna()\n",
    "all_df.loc[:,'urban'] = all_df['secc_cons_pc_urban'].notna()\n",
    "print(all_df['rural'].mean())\n",
    "print(all_df['urban'].mean())\n",
    "print(all_df['urban'].mean()+all_df['rural'].mean())"
   ]
  },
  {
   "cell_type": "markdown",
   "id": "c684f1db",
   "metadata": {},
   "source": [
    "#### 1. consumption at shrid unit as weighted average of rural and urban consumption - skip for now"
   ]
  },
  {
   "cell_type": "code",
   "execution_count": 19,
   "id": "9603f2bc",
   "metadata": {},
   "outputs": [],
   "source": [
    "def compute_combined_consumption(secc_pc_df):\n",
    "    '''Combine consumption between urban and rural based on the census population counts.\n",
    "    \n",
    "    Takes an average of the per-capita population consumption for urban and rural from SECC, weighted by \n",
    "    urban and rural population counts in the census data.\n",
    "    \n",
    "    Inputs: dataframe with SECC and census pc data already merged by shrid\n",
    "    \n",
    "    Returns: pd.series of combined per capita consumption \n",
    "    '''\n",
    "    tot_cons_rural = secc_pc_df['secc_cons_pc_rural'].fillna(0) * secc_pc_df['shrid_pc11_pca_tot_p_r'].fillna(0)\n",
    "    tot_cons_urban = secc_pc_df['secc_cons_pc_urban'].fillna(0) * secc_pc_df['shrid_pc11_pca_tot_p_u'].fillna(0)\n",
    "    \n",
    "    # only count population in the denominator if consumption for that type is not nan\n",
    "    denom_rural = secc_pc_df['shrid_pc11_pca_tot_p_r'].fillna(0)*secc_pc_df['secc_cons_pc_rural'].notna().astype(int)\n",
    "    denom_urban = secc_pc_df['shrid_pc11_pca_tot_p_u'].fillna(0)*secc_pc_df['secc_cons_pc_urban'].notna().astype(int)\n",
    "\n",
    "    return (tot_cons_rural + tot_cons_urban) / (denom_rural + denom_urban)"
   ]
  },
  {
   "cell_type": "code",
   "execution_count": 20,
   "id": "c123868e",
   "metadata": {},
   "outputs": [],
   "source": [
    "# combine consumption between urban and rural based on the census population counts\n",
    "all_df['secc_cons_pc_combined'] = compute_combined_consumption(all_df)\n",
    "# add urban and rural -- it's only going to be different from the existing data for like two rows, and barely\n",
    "\n",
    "all_df['pc11_pca_tot_p_combined'] = all_df['shrid_pc11_pca_tot_p_u'].fillna(0) + all_df['shrid_pc11_pca_tot_p_r'].fillna(0)\n",
    "all_df['frac_rural'] =  all_df['shrid_pc11_pca_tot_p_r'].fillna(0) / all_df['pc11_pca_tot_p_combined']\n",
    "all_df['frac_urban'] =  all_df['shrid_pc11_pca_tot_p_u'].fillna(0) / all_df['pc11_pca_tot_p_combined']\n",
    "# make sure consumption only different for rows that had consumption values for both urban and rural\n",
    "num_rows_with_urban_and_rural_secc = ((all_df['secc_cons_pc_rural'].notna().astype(int) + all_df['secc_cons_pc_urban'].notna().astype(int)) > 1).sum()\n",
    "num_rows_altered_by_combo = len(all_df) - np.isclose(all_df['secc_cons_pc_combined'],\n",
    "                                                     all_df['secc_cons_pc_rural'].fillna(0) + all_df['secc_cons_pc_urban'].fillna(0)).sum()\n",
    "\n",
    "assert num_rows_with_urban_and_rural_secc == num_rows_altered_by_combo"
   ]
  },
  {
   "cell_type": "code",
   "execution_count": 21,
   "id": "71f8a441",
   "metadata": {},
   "outputs": [],
   "source": [
    "all_df['log_secc_cons_pc_combined'] = np.log(1+all_df['secc_cons_pc_combined'])"
   ]
  },
  {
   "cell_type": "code",
   "execution_count": null,
   "id": "a7f0833b",
   "metadata": {},
   "outputs": [],
   "source": []
  },
  {
   "cell_type": "code",
   "execution_count": 22,
   "id": "0aa132b6",
   "metadata": {},
   "outputs": [
    {
     "data": {
      "text/plain": [
       "Text(0, 0.5, 'count (urban)')"
      ]
     },
     "execution_count": 22,
     "metadata": {},
     "output_type": "execute_result"
    },
    {
     "data": {
      "image/png": "[encoded data removed]",
      "text/plain": [
       "<Figure size 432x288 with 2 Axes>"
      ]
     },
     "metadata": {
      "needs_background": "light"
     },
     "output_type": "display_data"
    }
   ],
   "source": [
    "fig, ax = plt.subplots()\n",
    "ax.hist(all_df[all_df['rural'] == True]['log_secc_cons_pc_combined'], label='rural', \n",
    "        color='blue',alpha=.5)\n",
    "ax2 = ax.twinx()\n",
    "ax2.hist(all_df[all_df['rural'] == False]['log_secc_cons_pc_combined'], label='urban', \n",
    "         color='orange',alpha=.5)\n",
    "ax.legend(loc=(0,.9))\n",
    "ax2.legend(loc=0)\n",
    "ax.set_xlabel('log(1+ consumption)')\n",
    "ax.set_ylabel('count (rural)')\n",
    "ax2.set_ylabel('count (urban)')"
   ]
  },
  {
   "cell_type": "markdown",
   "id": "f201ff3d",
   "metadata": {},
   "source": [
    "### Save intermediate csv"
   ]
  },
  {
   "cell_type": "code",
   "execution_count": 46,
   "id": "85f2ff46",
   "metadata": {},
   "outputs": [],
   "source": [
    "all_df['state'] = all_df.apply(lambda x: x.shrid.split('-')[1], axis=1)"
   ]
  },
  {
   "cell_type": "code",
   "execution_count": 49,
   "id": "717b8d1a",
   "metadata": {},
   "outputs": [],
   "source": [
    "all_df['dummy_ones'] = np.ones(len(all_df))"
   ]
  },
  {
   "cell_type": "code",
   "execution_count": null,
   "id": "52289aac",
   "metadata": {},
   "outputs": [],
   "source": [
    "all_df.to_csv(os.path.join(data_dir,'shrug.csv'))\n"
   ]
  },
  {
   "cell_type": "code",
   "execution_count": 66,
   "id": "ff70faac",
   "metadata": {},
   "outputs": [],
   "source": [
    "all_gdf = gpd.GeoDataFrame(all_df)\n",
    "all_gdf.to_file(os.path.join(data_dir,'shrug.geojson'),driver='GeoJSON')\n"
   ]
  },
  {
   "cell_type": "code",
   "execution_count": 48,
   "id": "f72271fa",
   "metadata": {},
   "outputs": [],
   "source": [
    "all_df[['shrid','dmsp_mean_light_2012']].to_csv(os.path.join(data_dir,'shrug_nl_dmsp_2012.csv'))\n",
    "all_df[['shrid','viirs_mean_light_2020']].to_csv(os.path.join(data_dir,'shrug_nl_viirs_2020.csv'))"
   ]
  },
  {
   "cell_type": "code",
   "execution_count": 53,
   "id": "039ff4e9",
   "metadata": {},
   "outputs": [
    {
     "data": {
      "text/plain": [
       "Index(['shrid', 'pc11_pca_tot_p', 'shrid_pc11_pca_tot_p_r',\n",
       "       'shrid_pc11_pca_tot_p_u', 'ec13_emp_all', 'ec13_emp_manuf',\n",
       "       'secc_cons_pc_rural', 'secc_pov_rate_rural', 'secc_pov_rate_urban',\n",
       "       'secc_cons_pc_urban', 'viirs_mean_light_2020', 'dmsp_mean_light_2012',\n",
       "       'pc11_id', 'geometry', 'rural', 'urban', 'secc_cons_pc_combined',\n",
       "       'pc11_pca_tot_p_combined', 'frac_rural', 'frac_urban',\n",
       "       'log_secc_cons_pc_combined', 'state', 'dummy_ones'],\n",
       "      dtype='object')"
      ]
     },
     "execution_count": 53,
     "metadata": {},
     "output_type": "execute_result"
    }
   ],
   "source": [
    "all_df.keys()"
   ]
  },
  {
   "cell_type": "code",
   "execution_count": 58,
   "id": "8ddc03ea",
   "metadata": {},
   "outputs": [],
   "source": [
    "all_gdf = gpd.GeoDataFrame(all_df)"
   ]
  },
  {
   "cell_type": "code",
   "execution_count": null,
   "id": "1e0d9fb7",
   "metadata": {},
   "outputs": [],
   "source": [
    "fig, ax = plt.subplots(figsize=(20,20))\n",
    "\n",
    "all_gdf.plot(column='secc_cons_pc_combined',colorbar=True)"
   ]
  },
  {
   "cell_type": "code",
   "execution_count": null,
   "id": "0cee6f3d",
   "metadata": {},
   "outputs": [],
   "source": []
  }
 ],
 "metadata": {
  "kernelspec": {
   "display_name": "py3",
   "language": "python",
   "name": "py3"
  },
  "language_info": {
   "codemirror_mode": {
    "name": "ipython",
    "version": 3
   },
   "file_extension": ".py",
   "mimetype": "text/x-python",
   "name": "python",
   "nbconvert_exporter": "python",
   "pygments_lexer": "ipython3",
   "version": "3.7.7"
  }
 },
 "nbformat": 4,
 "nbformat_minor": 5
}
